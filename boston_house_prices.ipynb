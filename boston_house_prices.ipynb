{
 "cells": [
  {
   "cell_type": "code",
   "execution_count": 456,
   "id": "803509fe-3f8d-4a23-8721-62fc2a90a3cd",
   "metadata": {},
   "outputs": [],
   "source": [
    "from sklearn import datasets\n",
    "from sklearn.model_selection import train_test_split , GridSearchCV\n",
    "from sklearn.linear_model import LinearRegression\n",
    "from sklearn.svm import SVR\n",
    "from sklearn.metrics import mean_squared_error\n",
    "import pandas as pd\n",
    "import numpy as np"
   ]
  },
  {
   "cell_type": "code",
   "execution_count": 457,
   "id": "35cdda1d-9f57-4e72-b8cb-637364cacbb2",
   "metadata": {},
   "outputs": [],
   "source": [
    "df = pd.read_csv(\"BostonHousing.csv\")"
   ]
  },
  {
   "cell_type": "code",
   "execution_count": 458,
   "id": "eb873893-098c-498e-bd7a-578ff302b395",
   "metadata": {},
   "outputs": [
    {
     "data": {
      "text/html": [
       "<div>\n",
       "<style scoped>\n",
       "    .dataframe tbody tr th:only-of-type {\n",
       "        vertical-align: middle;\n",
       "    }\n",
       "\n",
       "    .dataframe tbody tr th {\n",
       "        vertical-align: top;\n",
       "    }\n",
       "\n",
       "    .dataframe thead th {\n",
       "        text-align: right;\n",
       "    }\n",
       "</style>\n",
       "<table border=\"1\" class=\"dataframe\">\n",
       "  <thead>\n",
       "    <tr style=\"text-align: right;\">\n",
       "      <th></th>\n",
       "      <th>crim</th>\n",
       "      <th>zn</th>\n",
       "      <th>indus</th>\n",
       "      <th>chas</th>\n",
       "      <th>nox</th>\n",
       "      <th>rm</th>\n",
       "      <th>age</th>\n",
       "      <th>dis</th>\n",
       "      <th>rad</th>\n",
       "      <th>tax</th>\n",
       "      <th>ptratio</th>\n",
       "      <th>b</th>\n",
       "      <th>lstat</th>\n",
       "      <th>medv</th>\n",
       "    </tr>\n",
       "  </thead>\n",
       "  <tbody>\n",
       "    <tr>\n",
       "      <th>0</th>\n",
       "      <td>0.00632</td>\n",
       "      <td>18.0</td>\n",
       "      <td>2.31</td>\n",
       "      <td>0</td>\n",
       "      <td>0.538</td>\n",
       "      <td>6.575</td>\n",
       "      <td>65.2</td>\n",
       "      <td>4.0900</td>\n",
       "      <td>1</td>\n",
       "      <td>296</td>\n",
       "      <td>15.3</td>\n",
       "      <td>396.90</td>\n",
       "      <td>4.98</td>\n",
       "      <td>24.0</td>\n",
       "    </tr>\n",
       "    <tr>\n",
       "      <th>1</th>\n",
       "      <td>0.02731</td>\n",
       "      <td>0.0</td>\n",
       "      <td>7.07</td>\n",
       "      <td>0</td>\n",
       "      <td>0.469</td>\n",
       "      <td>6.421</td>\n",
       "      <td>78.9</td>\n",
       "      <td>4.9671</td>\n",
       "      <td>2</td>\n",
       "      <td>242</td>\n",
       "      <td>17.8</td>\n",
       "      <td>396.90</td>\n",
       "      <td>9.14</td>\n",
       "      <td>21.6</td>\n",
       "    </tr>\n",
       "    <tr>\n",
       "      <th>2</th>\n",
       "      <td>0.02729</td>\n",
       "      <td>0.0</td>\n",
       "      <td>7.07</td>\n",
       "      <td>0</td>\n",
       "      <td>0.469</td>\n",
       "      <td>7.185</td>\n",
       "      <td>61.1</td>\n",
       "      <td>4.9671</td>\n",
       "      <td>2</td>\n",
       "      <td>242</td>\n",
       "      <td>17.8</td>\n",
       "      <td>392.83</td>\n",
       "      <td>4.03</td>\n",
       "      <td>34.7</td>\n",
       "    </tr>\n",
       "    <tr>\n",
       "      <th>3</th>\n",
       "      <td>0.03237</td>\n",
       "      <td>0.0</td>\n",
       "      <td>2.18</td>\n",
       "      <td>0</td>\n",
       "      <td>0.458</td>\n",
       "      <td>6.998</td>\n",
       "      <td>45.8</td>\n",
       "      <td>6.0622</td>\n",
       "      <td>3</td>\n",
       "      <td>222</td>\n",
       "      <td>18.7</td>\n",
       "      <td>394.63</td>\n",
       "      <td>2.94</td>\n",
       "      <td>33.4</td>\n",
       "    </tr>\n",
       "    <tr>\n",
       "      <th>4</th>\n",
       "      <td>0.06905</td>\n",
       "      <td>0.0</td>\n",
       "      <td>2.18</td>\n",
       "      <td>0</td>\n",
       "      <td>0.458</td>\n",
       "      <td>7.147</td>\n",
       "      <td>54.2</td>\n",
       "      <td>6.0622</td>\n",
       "      <td>3</td>\n",
       "      <td>222</td>\n",
       "      <td>18.7</td>\n",
       "      <td>396.90</td>\n",
       "      <td>5.33</td>\n",
       "      <td>36.2</td>\n",
       "    </tr>\n",
       "  </tbody>\n",
       "</table>\n",
       "</div>"
      ],
      "text/plain": [
       "      crim    zn  indus  chas    nox     rm   age     dis  rad  tax  ptratio  \\\n",
       "0  0.00632  18.0   2.31     0  0.538  6.575  65.2  4.0900    1  296     15.3   \n",
       "1  0.02731   0.0   7.07     0  0.469  6.421  78.9  4.9671    2  242     17.8   \n",
       "2  0.02729   0.0   7.07     0  0.469  7.185  61.1  4.9671    2  242     17.8   \n",
       "3  0.03237   0.0   2.18     0  0.458  6.998  45.8  6.0622    3  222     18.7   \n",
       "4  0.06905   0.0   2.18     0  0.458  7.147  54.2  6.0622    3  222     18.7   \n",
       "\n",
       "        b  lstat  medv  \n",
       "0  396.90   4.98  24.0  \n",
       "1  396.90   9.14  21.6  \n",
       "2  392.83   4.03  34.7  \n",
       "3  394.63   2.94  33.4  \n",
       "4  396.90   5.33  36.2  "
      ]
     },
     "execution_count": 458,
     "metadata": {},
     "output_type": "execute_result"
    }
   ],
   "source": [
    "df.head()"
   ]
  },
  {
   "cell_type": "code",
   "execution_count": 459,
   "id": "4023e6ad-a5b7-4736-9fcb-ce27d4bb786f",
   "metadata": {},
   "outputs": [
    {
     "data": {
      "text/plain": [
       "Index(['crim', 'zn', 'indus', 'chas', 'nox', 'rm', 'age', 'dis', 'rad', 'tax',\n",
       "       'ptratio', 'b', 'lstat', 'medv'],\n",
       "      dtype='object')"
      ]
     },
     "execution_count": 459,
     "metadata": {},
     "output_type": "execute_result"
    }
   ],
   "source": [
    "df.keys()"
   ]
  },
  {
   "cell_type": "code",
   "execution_count": 460,
   "id": "0effa88d-65d0-4240-8a70-0655132d5764",
   "metadata": {},
   "outputs": [
    {
     "ename": "SyntaxError",
     "evalue": "invalid syntax (944615889.py, line 4)",
     "output_type": "error",
     "traceback": [
      "\u001b[1;36m  Cell \u001b[1;32mIn[460], line 4\u001b[1;36m\u001b[0m\n\u001b[1;33m    INDUS - proportion of non-retail business acres per town-- .#\u001b[0m\n\u001b[1;37m                       ^\u001b[0m\n\u001b[1;31mSyntaxError\u001b[0m\u001b[1;31m:\u001b[0m invalid syntax\n"
     ]
    }
   ],
   "source": [
    "# CRIM - per capita crime rate by town\n",
    "# ZN - proportion of residential land zoned for lots over 25,000 sq.ft.-- \r",
    "# \n",
    "INDUS - proportion of non-retail business acres per town-- .# \r\n",
    "CHAS - Charles River dummy variable (1 if tract bounds river; 0 otherwis-- e# )\r\n",
    "NOX - nitric oxides concentration (parts per 10 milli-- o# n)\r\n",
    "RM - average number of rooms per dwel-- l# ing\r\n",
    "AGE - proportion of owner-occupied units built prior to--  # 1940\r\n",
    "DIS - weighted distances to five Boston employment c-- e# ntres\r\n",
    "RAD - index of accessibility to radial h-- i# ghways\r\n",
    "TAX - full-value property-tax rate per--  # $10,000\r\n",
    "PTRATIO - pupil-teacher rati-- o#  by town\r\n",
    "B - 1000(Bk - 0.63)^2 where Bk is the proportion of blac-- k# s by town\r\n",
    "LSTAT - % lower status of the--  # population\r\n",
    "MEDV - Median value of owner-occupied ho'ss in $1000's"
   ]
  },
  {
   "cell_type": "code",
   "execution_count": 476,
   "id": "e6f83c2c-e583-48a7-958c-31c0f0716b41",
   "metadata": {},
   "outputs": [
    {
     "data": {
      "text/plain": [
       "0      24.0\n",
       "1      21.6\n",
       "2      34.7\n",
       "3      33.4\n",
       "4      36.2\n",
       "       ... \n",
       "501    22.4\n",
       "502    20.6\n",
       "503    23.9\n",
       "504    22.0\n",
       "505    11.9\n",
       "Name: medv, Length: 506, dtype: float64"
      ]
     },
     "execution_count": 476,
     "metadata": {},
     "output_type": "execute_result"
    }
   ],
   "source": [
    "df['medv']"
   ]
  },
  {
   "cell_type": "markdown",
   "id": "6ca51480-6dfb-4d09-bf15-4f3a566a3b16",
   "metadata": {},
   "source": [
    "# Regressão\n",
    "\n",
    "1 - Passar os dados (Características e Features)\n",
    "2 - Passar o target (Passar o que queremos estimar)\n",
    "\n",
    "Nesse caso é um modelo supervisionado"
   ]
  },
  {
   "cell_type": "code",
   "execution_count": 479,
   "id": "ccf38922-c2d8-43f3-a323-c126a64ea78a",
   "metadata": {},
   "outputs": [],
   "source": [
    "# Caracteristicas das casas\n",
    "X = df[['crim', 'zn', 'indus', 'chas', 'nox', 'rm', 'age', 'dis', 'rad', 'tax',\n",
    "       'ptratio', 'b', 'lstat']]\n",
    "\n",
    "# Preço conhecido das casas - Target\n",
    "Y = df['medv']"
   ]
  },
  {
   "cell_type": "markdown",
   "id": "166529b2-a9ca-4d4b-aa7e-22593d53b643",
   "metadata": {},
   "source": [
    "## Modeling Techniques\n",
    "\n",
    "1. Regressão Linear do SKLEARN <https://scikit-learn.org/1.5/modules/generated/sklearn.linear_model.LinearRegression.html>\n",
    "2. Support Vector Regression do SKLEARN <https://scikit-learn.org/1.5/modules/generated/sklearn.svm.SVR.html>\n",
    "3. Decision Tree Regression do XGboost <https://machinelearningmastery.com/xgboost-for-regression/>"
   ]
  },
  {
   "cell_type": "markdown",
   "id": "db6bfe15-fa5c-44e5-97cb-1e58464fdb92",
   "metadata": {},
   "source": [
    "## Modeling Assumptions\n",
    "\n",
    "Apenas variáveis numéricas"
   ]
  },
  {
   "cell_type": "markdown",
   "id": "18ee5178-99b4-40f7-98ef-601b180b1cd0",
   "metadata": {},
   "source": [
    "## Test Design\n",
    "### Dataset split:\n",
    "\n",
    "Separação de Train/Test dataset padrão com 20% de massa para teste via método SKLEARN"
   ]
  },
  {
   "cell_type": "markdown",
   "id": "a4be6770-8c67-4a5d-9ed3-7707bc87428b",
   "metadata": {},
   "source": [
    "## Métrica de avaliação do modelo:\n",
    "\n",
    "R2, R2 ajustado -> Métrica para saber o quão ajustado está nossa curva de regressão aos dados\n",
    "MSE, RMSE e MAE\n",
    "\n",
    "MSE -> Você quer penalizar o erro\n",
    "MAE -> Você quer tratar os erros normalmente\n",
    "\n",
    "Para esse modelo vou utilizar a validação da métrica MSE e RMSE para penalizar grandes erros de previsão\n",
    "Utilizando o método do SKLEARN <https://scikit-learn.org/1.5/modules/generated/sklearn.metrics.mean_squared_error.html>"
   ]
  },
  {
   "cell_type": "markdown",
   "id": "5ffa5497-498c-41b7-89b2-5add74ebba6b",
   "metadata": {},
   "source": [
    "## 1. Regressão Linear do SKLEARN"
   ]
  },
  {
   "cell_type": "code",
   "execution_count": 486,
   "id": "4003afdf-a753-4c40-927c-adcc529cb00f",
   "metadata": {},
   "outputs": [],
   "source": [
    "X_train, X_test, Y_train, Y_test = train_test_split(X, Y, test_size = 0.2 , random_state = 42 )"
   ]
  },
  {
   "cell_type": "code",
   "execution_count": 488,
   "id": "58352dc7-3501-4018-8af9-ebafc75bad88",
   "metadata": {},
   "outputs": [
    {
     "name": "stdout",
     "output_type": "stream",
     "text": [
      "(102, 13)\n",
      "(102,)\n",
      "(404, 13)\n",
      "(404,)\n"
     ]
    }
   ],
   "source": [
    "print(X_test.shape)\n",
    "print(Y_test.shape)\n",
    "print(X_train.shape)\n",
    "print(Y_train.shape)"
   ]
  },
  {
   "cell_type": "code",
   "execution_count": 490,
   "id": "84476f96-4c72-404e-baad-eb91c88ac25b",
   "metadata": {},
   "outputs": [],
   "source": [
    "regLinear = LinearRegression()"
   ]
  },
  {
   "cell_type": "code",
   "execution_count": 492,
   "id": "858fbd9e-7158-4682-baaa-f64c35b35103",
   "metadata": {},
   "outputs": [
    {
     "data": {
      "text/html": [
       "<style>#sk-container-id-7 {\n",
       "  /* Definition of color scheme common for light and dark mode */\n",
       "  --sklearn-color-text: black;\n",
       "  --sklearn-color-line: gray;\n",
       "  /* Definition of color scheme for unfitted estimators */\n",
       "  --sklearn-color-unfitted-level-0: #fff5e6;\n",
       "  --sklearn-color-unfitted-level-1: #f6e4d2;\n",
       "  --sklearn-color-unfitted-level-2: #ffe0b3;\n",
       "  --sklearn-color-unfitted-level-3: chocolate;\n",
       "  /* Definition of color scheme for fitted estimators */\n",
       "  --sklearn-color-fitted-level-0: #f0f8ff;\n",
       "  --sklearn-color-fitted-level-1: #d4ebff;\n",
       "  --sklearn-color-fitted-level-2: #b3dbfd;\n",
       "  --sklearn-color-fitted-level-3: cornflowerblue;\n",
       "\n",
       "  /* Specific color for light theme */\n",
       "  --sklearn-color-text-on-default-background: var(--sg-text-color, var(--theme-code-foreground, var(--jp-content-font-color1, black)));\n",
       "  --sklearn-color-background: var(--sg-background-color, var(--theme-background, var(--jp-layout-color0, white)));\n",
       "  --sklearn-color-border-box: var(--sg-text-color, var(--theme-code-foreground, var(--jp-content-font-color1, black)));\n",
       "  --sklearn-color-icon: #696969;\n",
       "\n",
       "  @media (prefers-color-scheme: dark) {\n",
       "    /* Redefinition of color scheme for dark theme */\n",
       "    --sklearn-color-text-on-default-background: var(--sg-text-color, var(--theme-code-foreground, var(--jp-content-font-color1, white)));\n",
       "    --sklearn-color-background: var(--sg-background-color, var(--theme-background, var(--jp-layout-color0, #111)));\n",
       "    --sklearn-color-border-box: var(--sg-text-color, var(--theme-code-foreground, var(--jp-content-font-color1, white)));\n",
       "    --sklearn-color-icon: #878787;\n",
       "  }\n",
       "}\n",
       "\n",
       "#sk-container-id-7 {\n",
       "  color: var(--sklearn-color-text);\n",
       "}\n",
       "\n",
       "#sk-container-id-7 pre {\n",
       "  padding: 0;\n",
       "}\n",
       "\n",
       "#sk-container-id-7 input.sk-hidden--visually {\n",
       "  border: 0;\n",
       "  clip: rect(1px 1px 1px 1px);\n",
       "  clip: rect(1px, 1px, 1px, 1px);\n",
       "  height: 1px;\n",
       "  margin: -1px;\n",
       "  overflow: hidden;\n",
       "  padding: 0;\n",
       "  position: absolute;\n",
       "  width: 1px;\n",
       "}\n",
       "\n",
       "#sk-container-id-7 div.sk-dashed-wrapped {\n",
       "  border: 1px dashed var(--sklearn-color-line);\n",
       "  margin: 0 0.4em 0.5em 0.4em;\n",
       "  box-sizing: border-box;\n",
       "  padding-bottom: 0.4em;\n",
       "  background-color: var(--sklearn-color-background);\n",
       "}\n",
       "\n",
       "#sk-container-id-7 div.sk-container {\n",
       "  /* jupyter's `normalize.less` sets `[hidden] { display: none; }`\n",
       "     but bootstrap.min.css set `[hidden] { display: none !important; }`\n",
       "     so we also need the `!important` here to be able to override the\n",
       "     default hidden behavior on the sphinx rendered scikit-learn.org.\n",
       "     See: https://github.com/scikit-learn/scikit-learn/issues/21755 */\n",
       "  display: inline-block !important;\n",
       "  position: relative;\n",
       "}\n",
       "\n",
       "#sk-container-id-7 div.sk-text-repr-fallback {\n",
       "  display: none;\n",
       "}\n",
       "\n",
       "div.sk-parallel-item,\n",
       "div.sk-serial,\n",
       "div.sk-item {\n",
       "  /* draw centered vertical line to link estimators */\n",
       "  background-image: linear-gradient(var(--sklearn-color-text-on-default-background), var(--sklearn-color-text-on-default-background));\n",
       "  background-size: 2px 100%;\n",
       "  background-repeat: no-repeat;\n",
       "  background-position: center center;\n",
       "}\n",
       "\n",
       "/* Parallel-specific style estimator block */\n",
       "\n",
       "#sk-container-id-7 div.sk-parallel-item::after {\n",
       "  content: \"\";\n",
       "  width: 100%;\n",
       "  border-bottom: 2px solid var(--sklearn-color-text-on-default-background);\n",
       "  flex-grow: 1;\n",
       "}\n",
       "\n",
       "#sk-container-id-7 div.sk-parallel {\n",
       "  display: flex;\n",
       "  align-items: stretch;\n",
       "  justify-content: center;\n",
       "  background-color: var(--sklearn-color-background);\n",
       "  position: relative;\n",
       "}\n",
       "\n",
       "#sk-container-id-7 div.sk-parallel-item {\n",
       "  display: flex;\n",
       "  flex-direction: column;\n",
       "}\n",
       "\n",
       "#sk-container-id-7 div.sk-parallel-item:first-child::after {\n",
       "  align-self: flex-end;\n",
       "  width: 50%;\n",
       "}\n",
       "\n",
       "#sk-container-id-7 div.sk-parallel-item:last-child::after {\n",
       "  align-self: flex-start;\n",
       "  width: 50%;\n",
       "}\n",
       "\n",
       "#sk-container-id-7 div.sk-parallel-item:only-child::after {\n",
       "  width: 0;\n",
       "}\n",
       "\n",
       "/* Serial-specific style estimator block */\n",
       "\n",
       "#sk-container-id-7 div.sk-serial {\n",
       "  display: flex;\n",
       "  flex-direction: column;\n",
       "  align-items: center;\n",
       "  background-color: var(--sklearn-color-background);\n",
       "  padding-right: 1em;\n",
       "  padding-left: 1em;\n",
       "}\n",
       "\n",
       "\n",
       "/* Toggleable style: style used for estimator/Pipeline/ColumnTransformer box that is\n",
       "clickable and can be expanded/collapsed.\n",
       "- Pipeline and ColumnTransformer use this feature and define the default style\n",
       "- Estimators will overwrite some part of the style using the `sk-estimator` class\n",
       "*/\n",
       "\n",
       "/* Pipeline and ColumnTransformer style (default) */\n",
       "\n",
       "#sk-container-id-7 div.sk-toggleable {\n",
       "  /* Default theme specific background. It is overwritten whether we have a\n",
       "  specific estimator or a Pipeline/ColumnTransformer */\n",
       "  background-color: var(--sklearn-color-background);\n",
       "}\n",
       "\n",
       "/* Toggleable label */\n",
       "#sk-container-id-7 label.sk-toggleable__label {\n",
       "  cursor: pointer;\n",
       "  display: block;\n",
       "  width: 100%;\n",
       "  margin-bottom: 0;\n",
       "  padding: 0.5em;\n",
       "  box-sizing: border-box;\n",
       "  text-align: center;\n",
       "}\n",
       "\n",
       "#sk-container-id-7 label.sk-toggleable__label-arrow:before {\n",
       "  /* Arrow on the left of the label */\n",
       "  content: \"▸\";\n",
       "  float: left;\n",
       "  margin-right: 0.25em;\n",
       "  color: var(--sklearn-color-icon);\n",
       "}\n",
       "\n",
       "#sk-container-id-7 label.sk-toggleable__label-arrow:hover:before {\n",
       "  color: var(--sklearn-color-text);\n",
       "}\n",
       "\n",
       "/* Toggleable content - dropdown */\n",
       "\n",
       "#sk-container-id-7 div.sk-toggleable__content {\n",
       "  max-height: 0;\n",
       "  max-width: 0;\n",
       "  overflow: hidden;\n",
       "  text-align: left;\n",
       "  /* unfitted */\n",
       "  background-color: var(--sklearn-color-unfitted-level-0);\n",
       "}\n",
       "\n",
       "#sk-container-id-7 div.sk-toggleable__content.fitted {\n",
       "  /* fitted */\n",
       "  background-color: var(--sklearn-color-fitted-level-0);\n",
       "}\n",
       "\n",
       "#sk-container-id-7 div.sk-toggleable__content pre {\n",
       "  margin: 0.2em;\n",
       "  border-radius: 0.25em;\n",
       "  color: var(--sklearn-color-text);\n",
       "  /* unfitted */\n",
       "  background-color: var(--sklearn-color-unfitted-level-0);\n",
       "}\n",
       "\n",
       "#sk-container-id-7 div.sk-toggleable__content.fitted pre {\n",
       "  /* unfitted */\n",
       "  background-color: var(--sklearn-color-fitted-level-0);\n",
       "}\n",
       "\n",
       "#sk-container-id-7 input.sk-toggleable__control:checked~div.sk-toggleable__content {\n",
       "  /* Expand drop-down */\n",
       "  max-height: 200px;\n",
       "  max-width: 100%;\n",
       "  overflow: auto;\n",
       "}\n",
       "\n",
       "#sk-container-id-7 input.sk-toggleable__control:checked~label.sk-toggleable__label-arrow:before {\n",
       "  content: \"▾\";\n",
       "}\n",
       "\n",
       "/* Pipeline/ColumnTransformer-specific style */\n",
       "\n",
       "#sk-container-id-7 div.sk-label input.sk-toggleable__control:checked~label.sk-toggleable__label {\n",
       "  color: var(--sklearn-color-text);\n",
       "  background-color: var(--sklearn-color-unfitted-level-2);\n",
       "}\n",
       "\n",
       "#sk-container-id-7 div.sk-label.fitted input.sk-toggleable__control:checked~label.sk-toggleable__label {\n",
       "  background-color: var(--sklearn-color-fitted-level-2);\n",
       "}\n",
       "\n",
       "/* Estimator-specific style */\n",
       "\n",
       "/* Colorize estimator box */\n",
       "#sk-container-id-7 div.sk-estimator input.sk-toggleable__control:checked~label.sk-toggleable__label {\n",
       "  /* unfitted */\n",
       "  background-color: var(--sklearn-color-unfitted-level-2);\n",
       "}\n",
       "\n",
       "#sk-container-id-7 div.sk-estimator.fitted input.sk-toggleable__control:checked~label.sk-toggleable__label {\n",
       "  /* fitted */\n",
       "  background-color: var(--sklearn-color-fitted-level-2);\n",
       "}\n",
       "\n",
       "#sk-container-id-7 div.sk-label label.sk-toggleable__label,\n",
       "#sk-container-id-7 div.sk-label label {\n",
       "  /* The background is the default theme color */\n",
       "  color: var(--sklearn-color-text-on-default-background);\n",
       "}\n",
       "\n",
       "/* On hover, darken the color of the background */\n",
       "#sk-container-id-7 div.sk-label:hover label.sk-toggleable__label {\n",
       "  color: var(--sklearn-color-text);\n",
       "  background-color: var(--sklearn-color-unfitted-level-2);\n",
       "}\n",
       "\n",
       "/* Label box, darken color on hover, fitted */\n",
       "#sk-container-id-7 div.sk-label.fitted:hover label.sk-toggleable__label.fitted {\n",
       "  color: var(--sklearn-color-text);\n",
       "  background-color: var(--sklearn-color-fitted-level-2);\n",
       "}\n",
       "\n",
       "/* Estimator label */\n",
       "\n",
       "#sk-container-id-7 div.sk-label label {\n",
       "  font-family: monospace;\n",
       "  font-weight: bold;\n",
       "  display: inline-block;\n",
       "  line-height: 1.2em;\n",
       "}\n",
       "\n",
       "#sk-container-id-7 div.sk-label-container {\n",
       "  text-align: center;\n",
       "}\n",
       "\n",
       "/* Estimator-specific */\n",
       "#sk-container-id-7 div.sk-estimator {\n",
       "  font-family: monospace;\n",
       "  border: 1px dotted var(--sklearn-color-border-box);\n",
       "  border-radius: 0.25em;\n",
       "  box-sizing: border-box;\n",
       "  margin-bottom: 0.5em;\n",
       "  /* unfitted */\n",
       "  background-color: var(--sklearn-color-unfitted-level-0);\n",
       "}\n",
       "\n",
       "#sk-container-id-7 div.sk-estimator.fitted {\n",
       "  /* fitted */\n",
       "  background-color: var(--sklearn-color-fitted-level-0);\n",
       "}\n",
       "\n",
       "/* on hover */\n",
       "#sk-container-id-7 div.sk-estimator:hover {\n",
       "  /* unfitted */\n",
       "  background-color: var(--sklearn-color-unfitted-level-2);\n",
       "}\n",
       "\n",
       "#sk-container-id-7 div.sk-estimator.fitted:hover {\n",
       "  /* fitted */\n",
       "  background-color: var(--sklearn-color-fitted-level-2);\n",
       "}\n",
       "\n",
       "/* Specification for estimator info (e.g. \"i\" and \"?\") */\n",
       "\n",
       "/* Common style for \"i\" and \"?\" */\n",
       "\n",
       ".sk-estimator-doc-link,\n",
       "a:link.sk-estimator-doc-link,\n",
       "a:visited.sk-estimator-doc-link {\n",
       "  float: right;\n",
       "  font-size: smaller;\n",
       "  line-height: 1em;\n",
       "  font-family: monospace;\n",
       "  background-color: var(--sklearn-color-background);\n",
       "  border-radius: 1em;\n",
       "  height: 1em;\n",
       "  width: 1em;\n",
       "  text-decoration: none !important;\n",
       "  margin-left: 1ex;\n",
       "  /* unfitted */\n",
       "  border: var(--sklearn-color-unfitted-level-1) 1pt solid;\n",
       "  color: var(--sklearn-color-unfitted-level-1);\n",
       "}\n",
       "\n",
       ".sk-estimator-doc-link.fitted,\n",
       "a:link.sk-estimator-doc-link.fitted,\n",
       "a:visited.sk-estimator-doc-link.fitted {\n",
       "  /* fitted */\n",
       "  border: var(--sklearn-color-fitted-level-1) 1pt solid;\n",
       "  color: var(--sklearn-color-fitted-level-1);\n",
       "}\n",
       "\n",
       "/* On hover */\n",
       "div.sk-estimator:hover .sk-estimator-doc-link:hover,\n",
       ".sk-estimator-doc-link:hover,\n",
       "div.sk-label-container:hover .sk-estimator-doc-link:hover,\n",
       ".sk-estimator-doc-link:hover {\n",
       "  /* unfitted */\n",
       "  background-color: var(--sklearn-color-unfitted-level-3);\n",
       "  color: var(--sklearn-color-background);\n",
       "  text-decoration: none;\n",
       "}\n",
       "\n",
       "div.sk-estimator.fitted:hover .sk-estimator-doc-link.fitted:hover,\n",
       ".sk-estimator-doc-link.fitted:hover,\n",
       "div.sk-label-container:hover .sk-estimator-doc-link.fitted:hover,\n",
       ".sk-estimator-doc-link.fitted:hover {\n",
       "  /* fitted */\n",
       "  background-color: var(--sklearn-color-fitted-level-3);\n",
       "  color: var(--sklearn-color-background);\n",
       "  text-decoration: none;\n",
       "}\n",
       "\n",
       "/* Span, style for the box shown on hovering the info icon */\n",
       ".sk-estimator-doc-link span {\n",
       "  display: none;\n",
       "  z-index: 9999;\n",
       "  position: relative;\n",
       "  font-weight: normal;\n",
       "  right: .2ex;\n",
       "  padding: .5ex;\n",
       "  margin: .5ex;\n",
       "  width: min-content;\n",
       "  min-width: 20ex;\n",
       "  max-width: 50ex;\n",
       "  color: var(--sklearn-color-text);\n",
       "  box-shadow: 2pt 2pt 4pt #999;\n",
       "  /* unfitted */\n",
       "  background: var(--sklearn-color-unfitted-level-0);\n",
       "  border: .5pt solid var(--sklearn-color-unfitted-level-3);\n",
       "}\n",
       "\n",
       ".sk-estimator-doc-link.fitted span {\n",
       "  /* fitted */\n",
       "  background: var(--sklearn-color-fitted-level-0);\n",
       "  border: var(--sklearn-color-fitted-level-3);\n",
       "}\n",
       "\n",
       ".sk-estimator-doc-link:hover span {\n",
       "  display: block;\n",
       "}\n",
       "\n",
       "/* \"?\"-specific style due to the `<a>` HTML tag */\n",
       "\n",
       "#sk-container-id-7 a.estimator_doc_link {\n",
       "  float: right;\n",
       "  font-size: 1rem;\n",
       "  line-height: 1em;\n",
       "  font-family: monospace;\n",
       "  background-color: var(--sklearn-color-background);\n",
       "  border-radius: 1rem;\n",
       "  height: 1rem;\n",
       "  width: 1rem;\n",
       "  text-decoration: none;\n",
       "  /* unfitted */\n",
       "  color: var(--sklearn-color-unfitted-level-1);\n",
       "  border: var(--sklearn-color-unfitted-level-1) 1pt solid;\n",
       "}\n",
       "\n",
       "#sk-container-id-7 a.estimator_doc_link.fitted {\n",
       "  /* fitted */\n",
       "  border: var(--sklearn-color-fitted-level-1) 1pt solid;\n",
       "  color: var(--sklearn-color-fitted-level-1);\n",
       "}\n",
       "\n",
       "/* On hover */\n",
       "#sk-container-id-7 a.estimator_doc_link:hover {\n",
       "  /* unfitted */\n",
       "  background-color: var(--sklearn-color-unfitted-level-3);\n",
       "  color: var(--sklearn-color-background);\n",
       "  text-decoration: none;\n",
       "}\n",
       "\n",
       "#sk-container-id-7 a.estimator_doc_link.fitted:hover {\n",
       "  /* fitted */\n",
       "  background-color: var(--sklearn-color-fitted-level-3);\n",
       "}\n",
       "</style><div id=\"sk-container-id-7\" class=\"sk-top-container\"><div class=\"sk-text-repr-fallback\"><pre>LinearRegression()</pre><b>In a Jupyter environment, please rerun this cell to show the HTML representation or trust the notebook. <br />On GitHub, the HTML representation is unable to render, please try loading this page with nbviewer.org.</b></div><div class=\"sk-container\" hidden><div class=\"sk-item\"><div class=\"sk-estimator fitted sk-toggleable\"><input class=\"sk-toggleable__control sk-hidden--visually\" id=\"sk-estimator-id-7\" type=\"checkbox\" checked><label for=\"sk-estimator-id-7\" class=\"sk-toggleable__label fitted sk-toggleable__label-arrow fitted\">&nbsp;&nbsp;LinearRegression<a class=\"sk-estimator-doc-link fitted\" rel=\"noreferrer\" target=\"_blank\" href=\"https://scikit-learn.org/1.4/modules/generated/sklearn.linear_model.LinearRegression.html\">?<span>Documentation for LinearRegression</span></a><span class=\"sk-estimator-doc-link fitted\">i<span>Fitted</span></span></label><div class=\"sk-toggleable__content fitted\"><pre>LinearRegression()</pre></div> </div></div></div></div>"
      ],
      "text/plain": [
       "LinearRegression()"
      ]
     },
     "execution_count": 492,
     "metadata": {},
     "output_type": "execute_result"
    }
   ],
   "source": [
    "regLinear.fit(X_train, Y_train)"
   ]
  },
  {
   "cell_type": "code",
   "execution_count": 494,
   "id": "608a1694-e610-4c50-b67c-b01f868a9eb3",
   "metadata": {},
   "outputs": [],
   "source": [
    "yLinear = regLinear.predict(X_test)"
   ]
  },
  {
   "cell_type": "code",
   "execution_count": 496,
   "id": "a73037d7-497f-4253-91e0-0b4acefba1a7",
   "metadata": {},
   "outputs": [
    {
     "name": "stdout",
     "output_type": "stream",
     "text": [
      "[28.99672362 36.02556534 14.81694405 25.03197915 18.76987992 23.25442929\n",
      " 17.66253818 14.34119    23.01320703 20.63245597 24.90850512 18.63883645\n",
      " -6.08842184 21.75834668 19.23922576 26.19319733 20.64773313  5.79472718\n",
      " 40.50033966 17.61289074 27.24909479 30.06625441 11.34179277 24.16077616\n",
      " 17.86058499 15.83609765 22.78148106 14.57704449 22.43626052 19.19631835\n",
      " 22.43383455 25.21979081 25.93909562 17.70162434 16.76911711 16.95125411\n",
      " 31.23340153 20.13246729 23.76579011 24.6322925  13.94204955 32.25576301\n",
      " 42.67251161 17.32745046 27.27618614 16.99310991 14.07009109 25.90341861\n",
      " 20.29485982 29.95339638 21.28860173 34.34451856 16.04739105 26.22562412\n",
      " 39.53939798 22.57950697 18.84531367 32.72531661 25.0673037  12.88628956\n",
      " 22.68221908 30.48287757 31.52626806 15.90148607 20.22094826 16.71089812\n",
      " 20.52384893 25.96356264 30.61607978 11.59783023 20.51232627 27.48111878\n",
      " 11.01962332 15.68096344 23.79316251  6.19929359 21.6039073  41.41377225\n",
      " 18.76548695  8.87931901 20.83076916 13.25620627 20.73963699  9.36482222\n",
      " 23.22444271 31.9155003  19.10228271 25.51579303 29.04256769 20.14358566\n",
      " 25.5859787   5.70159447 20.09474756 14.95069156 12.50395648 20.72635294\n",
      " 24.73957161 -0.164237   13.68486682 16.18359697 22.27621999 24.47902364]\n"
     ]
    }
   ],
   "source": [
    "print(yLinear)"
   ]
  },
  {
   "cell_type": "markdown",
   "id": "09624f4b-862a-4e5c-be8e-f3ed2671f822",
   "metadata": {},
   "source": [
    "## Comparar a predição (X) com o real (Y)"
   ]
  },
  {
   "cell_type": "code",
   "execution_count": 499,
   "id": "6aca9a21-caf5-492c-a197-f23f2bc87e34",
   "metadata": {},
   "outputs": [],
   "source": [
    "MSELinear = mean_squared_error(Y_test, yLinear)"
   ]
  },
  {
   "cell_type": "code",
   "execution_count": 501,
   "id": "72817aa4-b006-4033-ba27-688b494050c5",
   "metadata": {},
   "outputs": [
    {
     "name": "stdout",
     "output_type": "stream",
     "text": [
      "MSE Linear:  24.291119474973478\n"
     ]
    }
   ],
   "source": [
    "print(\"MSE Linear: \", MSE)"
   ]
  },
  {
   "cell_type": "code",
   "execution_count": 503,
   "id": "4fe72e4d-f65a-467a-b12a-67308a65eb24",
   "metadata": {},
   "outputs": [
    {
     "name": "stdout",
     "output_type": "stream",
     "text": [
      "RMSE Linear:  4.928602182665332\n"
     ]
    }
   ],
   "source": [
    "print(\"RMSE Linear: \", np.sqrt(MSE))"
   ]
  },
  {
   "cell_type": "markdown",
   "id": "f502bf54-f371-40fb-b490-e8733ee462a0",
   "metadata": {},
   "source": [
    "## 2. Support Vector Regression do SKLEARN"
   ]
  },
  {
   "cell_type": "code",
   "execution_count": 506,
   "id": "1b1b1e04-204b-4885-86f3-2038423a9723",
   "metadata": {},
   "outputs": [],
   "source": [
    "regSVR = SVR().fit(X_train, Y_train)"
   ]
  },
  {
   "cell_type": "code",
   "execution_count": 508,
   "id": "18af105f-6ad6-44fd-a847-55de7f9a4021",
   "metadata": {},
   "outputs": [],
   "source": [
    "ySVR = regSVR.predict(X_test)"
   ]
  },
  {
   "cell_type": "code",
   "execution_count": 510,
   "id": "99ddc2f2-3e69-4776-a7b9-daabdf8f5715",
   "metadata": {},
   "outputs": [
    {
     "name": "stdout",
     "output_type": "stream",
     "text": [
      "[22.5061509  24.44637611 15.48342923 23.47861138 15.85575665 20.41359379\n",
      " 22.22729603 19.30750829 16.00684204 20.69013802 22.5948442  22.17932651\n",
      " 13.22283187 20.88634606 22.74343046 16.11962825 23.6578174  15.50113391\n",
      " 24.80649803 15.86119502 24.85903189 24.42774747 21.65632951 23.06890895\n",
      " 15.18170664 15.47518332 21.28809591 13.27760452 22.58811671 20.84375287\n",
      " 22.39598564 23.17949952 15.87553566 15.81646768 15.26751873 18.53736675\n",
      " 23.75510385 24.20893309 23.03137207 23.35824097 20.74014355 24.26097498\n",
      " 25.29050354 22.45914878 23.21111935 15.87406945 21.6649305  23.42123755\n",
      " 16.08170391 23.06164042 22.35542867 24.67123285 22.08392839 21.02076269\n",
      " 23.7698124  16.48115196 15.85681759 24.99519292 23.87040225 22.19275612\n",
      " 23.61440768 25.38561307 23.18766117 21.82639671 21.46613519 22.43757636\n",
      " 15.82206507 23.86467246 24.9310726  13.3354447  24.23171731 16.22743397\n",
      " 14.35580648 23.47121935 21.03977262 15.66672407 20.63701249 25.28324943\n",
      " 15.81293928 15.0221233  22.55700153 15.01570683 23.9667558  15.81774318\n",
      " 22.21717976 22.25414813 14.64314526 23.37372785 24.08220483 19.37699063\n",
      " 23.06367649 13.58347444 19.43566908 21.6322458  15.68851353 19.33195473\n",
      " 15.61256571 13.1513996  13.29101828 13.23316724 23.87811317 21.02772523]\n"
     ]
    }
   ],
   "source": [
    "print(ySVR)"
   ]
  },
  {
   "cell_type": "code",
   "execution_count": 512,
   "id": "cbba5dfa-a924-4ff5-8129-0de52ae87090",
   "metadata": {},
   "outputs": [],
   "source": [
    "MSESVR = mean_squared_error(Y_test, ySVR)"
   ]
  },
  {
   "cell_type": "code",
   "execution_count": 514,
   "id": "138b2596-416a-4210-82a4-fff659dc5309",
   "metadata": {},
   "outputs": [
    {
     "name": "stdout",
     "output_type": "stream",
     "text": [
      "MSE SVR:  52.83836576796669\n",
      "RMSE SVR:  7.269000327965785\n"
     ]
    }
   ],
   "source": [
    "print(\"MSE SVR: \", MSESVR)\n",
    "print(\"RMSE SVR: \", np.sqrt(MSESVR))"
   ]
  },
  {
   "cell_type": "markdown",
   "id": "f455d6f8-91c7-4057-a095-d68b6300f840",
   "metadata": {},
   "source": [
    "## 3. Decision Tree Regression do XGboost"
   ]
  },
  {
   "cell_type": "code",
   "execution_count": 517,
   "id": "a748e2bd-0980-464d-b720-096161c8aa3d",
   "metadata": {},
   "outputs": [
    {
     "name": "stdout",
     "output_type": "stream",
     "text": [
      "Requirement already satisfied: xgboost in c:\\users\\micro\\anaconda3\\lib\\site-packages (2.1.2)\n",
      "Requirement already satisfied: numpy in c:\\users\\micro\\anaconda3\\lib\\site-packages (from xgboost) (1.26.4)\n",
      "Requirement already satisfied: scipy in c:\\users\\micro\\anaconda3\\lib\\site-packages (from xgboost) (1.13.1)\n"
     ]
    }
   ],
   "source": [
    "!pip install xgboost"
   ]
  },
  {
   "cell_type": "code",
   "execution_count": 518,
   "id": "ae6a9534-2108-4ec1-a56a-d3a9468f118c",
   "metadata": {},
   "outputs": [],
   "source": [
    "from xgboost import XGBRegressor"
   ]
  },
  {
   "cell_type": "code",
   "execution_count": 519,
   "id": "2ea860be-9c69-4e69-a1a2-2193af1b3f86",
   "metadata": {},
   "outputs": [],
   "source": [
    "regXGB = XGBRegressor().fit(X_train, Y_train)"
   ]
  },
  {
   "cell_type": "code",
   "execution_count": 520,
   "id": "b5a85ca5-1fdc-4fb4-8791-89876b505fef",
   "metadata": {},
   "outputs": [],
   "source": [
    "yXGB = regXGB.predict(X_test)"
   ]
  },
  {
   "cell_type": "code",
   "execution_count": 521,
   "id": "422f3163-a0c4-4d28-b9eb-c350196a14fe",
   "metadata": {},
   "outputs": [],
   "source": [
    "MSEXGB = mean_squared_error(Y_test, yXGB)"
   ]
  },
  {
   "cell_type": "code",
   "execution_count": 522,
   "id": "c4958bf4-4ea0-405e-9cb5-e8c5ba265c15",
   "metadata": {},
   "outputs": [
    {
     "name": "stdout",
     "output_type": "stream",
     "text": [
      "MSE SVR:  6.909231565384943\n",
      "RMSE SVR:  2.62854171840299\n"
     ]
    }
   ],
   "source": [
    "print(\"MSE SVR: \", MSEXGB)\n",
    "print(\"RMSE SVR: \", np.sqrt(MSEXGB))"
   ]
  },
  {
   "cell_type": "markdown",
   "id": "5729b2ef-03d2-4625-b835-e753c451219d",
   "metadata": {},
   "source": [
    "## Otimização de hiperparametros\n",
    "Utilizando o método GridSearchCV do SKLEARN"
   ]
  },
  {
   "cell_type": "code",
   "execution_count": 531,
   "id": "ca54edb4-285c-4fd8-9745-1518d1510be7",
   "metadata": {},
   "outputs": [
    {
     "data": {
      "text/plain": [
       "dict_keys(['objective', 'base_score', 'booster', 'callbacks', 'colsample_bylevel', 'colsample_bynode', 'colsample_bytree', 'device', 'early_stopping_rounds', 'enable_categorical', 'eval_metric', 'feature_types', 'gamma', 'grow_policy', 'importance_type', 'interaction_constraints', 'learning_rate', 'max_bin', 'max_cat_threshold', 'max_cat_to_onehot', 'max_delta_step', 'max_depth', 'max_leaves', 'min_child_weight', 'missing', 'monotone_constraints', 'multi_strategy', 'n_estimators', 'n_jobs', 'num_parallel_tree', 'random_state', 'reg_alpha', 'reg_lambda', 'sampling_method', 'scale_pos_weight', 'subsample', 'tree_method', 'validate_parameters', 'verbosity'])"
      ]
     },
     "execution_count": 531,
     "metadata": {},
     "output_type": "execute_result"
    }
   ],
   "source": [
    "regXGB.get_params().keys()"
   ]
  },
  {
   "cell_type": "code",
   "execution_count": 535,
   "id": "20706cb1-122a-4747-bd85-87762961821a",
   "metadata": {},
   "outputs": [],
   "source": [
    "parameters = {\n",
    "    \"max_depth\": [5, 6, 7],\n",
    "    \"learning_rate\": [0.1, 0.2, 0.3],\n",
    "    \"objective\": ['reg:squarederror'],\n",
    "    \"booster\": ['gbtree'],\n",
    "    \"n_jobs\": [5],\n",
    "    \"gamma\": [0, 1],\n",
    "    \"min_child_weight\": [1, 3],\n",
    "    \"max_delta_step\": [0, 1],\n",
    "    \"subsample\": [0.5, 1]\n",
    "}"
   ]
  },
  {
   "cell_type": "code",
   "execution_count": 540,
   "id": "3971a0ee-716f-468a-a458-97eaa74755c3",
   "metadata": {},
   "outputs": [],
   "source": [
    "xgbGrid = GridSearchCV(XGBRegressor(), parameters, refit = 'neg_mean_squared_error', verbose = True)"
   ]
  },
  {
   "cell_type": "code",
   "execution_count": 541,
   "id": "a3ba86be-abc2-4fd4-89ea-f6c086f24f2c",
   "metadata": {},
   "outputs": [
    {
     "name": "stdout",
     "output_type": "stream",
     "text": [
      "Fitting 5 folds for each of 144 candidates, totalling 720 fits\n"
     ]
    }
   ],
   "source": [
    "xgbGridModel = xgbGrid.fit(X_train, Y_train)"
   ]
  },
  {
   "cell_type": "code",
   "execution_count": 544,
   "id": "ad9ce731-7f83-48ae-b43d-8b60aaef58c9",
   "metadata": {},
   "outputs": [
    {
     "data": {
      "text/plain": [
       "{'booster': 'gbtree',\n",
       " 'gamma': 0,\n",
       " 'learning_rate': 0.2,\n",
       " 'max_delta_step': 0,\n",
       " 'max_depth': 5,\n",
       " 'min_child_weight': 1,\n",
       " 'n_jobs': 5,\n",
       " 'objective': 'reg:squarederror',\n",
       " 'subsample': 1}"
      ]
     },
     "execution_count": 544,
     "metadata": {},
     "output_type": "execute_result"
    }
   ],
   "source": [
    "xgbGridModel.best_params_"
   ]
  },
  {
   "cell_type": "code",
   "execution_count": 546,
   "id": "6bf899c7-1ac4-4195-adac-6234aaed231c",
   "metadata": {},
   "outputs": [],
   "source": [
    "yGrid = xgbGridModel.predict(X_test)"
   ]
  },
  {
   "cell_type": "code",
   "execution_count": 548,
   "id": "9a8795a9-5559-4cf2-bc2d-317424e7a7c2",
   "metadata": {},
   "outputs": [],
   "source": [
    "MSEGrid = mean_squared_error(Y_test, yGrid)"
   ]
  },
  {
   "cell_type": "code",
   "execution_count": 550,
   "id": "6abaea24-27c2-4d2c-9023-dc80791c6f04",
   "metadata": {},
   "outputs": [
    {
     "name": "stdout",
     "output_type": "stream",
     "text": [
      "MSE XGB Grid:  6.064068679557395\n",
      "RMSE XGB Grid:  2.4625329803999367\n"
     ]
    }
   ],
   "source": [
    "print(\"MSE XGB Grid: \", MSEGrid)\n",
    "print(\"RMSE XGB Grid: \", np.sqrt(MSEGrid))"
   ]
  },
  {
   "cell_type": "code",
   "execution_count": null,
   "id": "4020adf3-247e-44b4-92cb-4864ccd8e5b6",
   "metadata": {},
   "outputs": [],
   "source": []
  }
 ],
 "metadata": {
  "kernelspec": {
   "display_name": "Python 3 (ipykernel)",
   "language": "python",
   "name": "python3"
  },
  "language_info": {
   "codemirror_mode": {
    "name": "ipython",
    "version": 3
   },
   "file_extension": ".py",
   "mimetype": "text/x-python",
   "name": "python",
   "nbconvert_exporter": "python",
   "pygments_lexer": "ipython3",
   "version": "3.12.4"
  }
 },
 "nbformat": 4,
 "nbformat_minor": 5
}
